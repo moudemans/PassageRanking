{
 "cells": [
  {
   "cell_type": "code",
   "execution_count": 111,
   "id": "a102d5ef",
   "metadata": {},
   "outputs": [],
   "source": [
    "import pyserini.search as pys\n",
    "import transformers\n",
    "from transformers import AutoTokenizer, AutoModelForSequenceClassification\n",
    "import torch\n",
    "import numpy as np\n",
    "import pandas as pd"
   ]
  },
  {
   "cell_type": "code",
   "execution_count": 163,
   "id": "f11079b8",
   "metadata": {},
   "outputs": [
    {
     "name": "stdout",
     "output_type": "stream",
     "text": [
      "{'id': 1048578, 'content': 'cost of endless pools/swim spa'}\n"
     ]
    }
   ],
   "source": [
    "\n",
    "searcher = pys.SimpleSearcher('indexes/sample_collection_jsonl')\n",
    "\n",
    "f = open(\"data/queries.dev.tsv\")\n",
    "queries = []\n",
    "\n",
    "for i in range(20):\n",
    "    l = f.readline().split(\"\\t\")\n",
    "    queries.append({\"id\": int(l[0]), \"content\": l[1].strip()})\n",
    "    \n",
    "print(queries[0])\n",
    "f.close()"
   ]
  },
  {
   "cell_type": "code",
   "execution_count": 154,
   "id": "3fc3c8c6",
   "metadata": {},
   "outputs": [
    {
     "name": "stdout",
     "output_type": "stream",
     "text": [
      " 1 7471198 21.35000\n",
      " 2 7187236 20.33760\n",
      " 3 5365326 19.68380\n",
      " 4 7187234 19.53490\n",
      " 5 7187242 18.88170\n",
      " 6 2078221 18.84990\n",
      " 7 7187241 18.66050\n",
      " 8 6802210 18.12250\n",
      " 9 6794083 17.85240\n",
      "10 5365328 17.60240\n",
      "11 6750054 17.18490\n",
      "12 4332300 16.23630\n",
      "13 6347088 16.22780\n",
      "14 6347089 16.22780\n",
      "15 6270168 16.07760\n",
      "16 3982208 15.82690\n",
      "17 7471199 15.75350\n",
      "18 7313043 15.45380\n",
      "19 8105762 15.30410\n",
      "20 1139145 15.19000\n"
     ]
    }
   ],
   "source": [
    "\n",
    "hits = searcher.search(queries[0]['content'], k=20)\n",
    "\n",
    "\n",
    "for i in range(len(hits)):\n",
    "    print(f'{i+1:2} {hits[i].docid:4} {hits[i].score:.5f}')"
   ]
  },
  {
   "cell_type": "code",
   "execution_count": 153,
   "id": "3dc07a9b",
   "metadata": {},
   "outputs": [],
   "source": [
    "def findDoc(id, mode=\"chunk\"):\n",
    "    if(mode == \"linear\"):\n",
    "        res = \"\"\n",
    "        f = open(\"data/collection.tsv\",  encoding=\"utf8\")\n",
    "        for i in range(id+1):\n",
    "            l = f.readline()\n",
    "        print(l)\n",
    "    elif mode == \"chunk\":\n",
    "        res = id%10000\n",
    "        nearest_n = id - res\n",
    "        f = open(f\"data/collection_chunks/{nearest_n}.txt\",  encoding=\"utf8\")\n",
    "        for i in range(res):\n",
    "            l = f.readline()\n",
    "        return l\n"
   ]
  },
  {
   "cell_type": "code",
   "execution_count": 135,
   "id": "289cf5d0",
   "metadata": {},
   "outputs": [],
   "source": [
    "w = [2/3, 1/6, 1/6]\n",
    "a = 0.5\n",
    "# The tokenizer will automatically add any model specific separators (i.e. <CLS> and <SEP>) and tokens to\n",
    "# the sequence, as well as compute the attention masks.\n",
    "\n",
    "def getSim(query, doc):\n",
    "    paraphrase = tokenizer(query, doc, return_tensors=\"pt\")\n",
    "    paraphrase_classification_logits = model(**paraphrase).logits\n",
    "    paraphrase_results = torch.softmax(paraphrase_classification_logits, dim=1).tolist()[0]\n",
    "    \n",
    "    return paraphrase_results[1]\n",
    "     \n",
    "def calcBertScore(query, doc): \n",
    "    sentences = list(filter(lambda x: x != \"\", [d.strip() for d in doc.split(\".\")]))\n",
    "    \n",
    "    sims = [{\"score\": getSim(query, d), \"sentence\": d} for d in sentences]\n",
    "    sims = sorted(sims, reverse = True, key = lambda x: x[\"score\"])[:3]\n",
    "    n = min(len(sims), 3)\n",
    "    score = 0\n",
    "    for i in range(n):\n",
    "        score = score + w[i]*sims[i][\"score\"]\n",
    "    \n",
    "    return score"
   ]
  },
  {
   "cell_type": "code",
   "execution_count": 193,
   "id": "eea11730",
   "metadata": {
    "scrolled": true
   },
   "outputs": [
    {
     "name": "stdout",
     "output_type": "stream",
     "text": [
      "Doc: 7471198, bm-25: 21.350000381469727, bert: 0.18122270703315735\n",
      "Doc: 7187236, bm-25: 20.337600708007812, bert: 0.3372192780176798\n",
      "Doc: 5365326, bm-25: 19.683799743652344, bert: 0.18112697328130403\n",
      "Doc: 7187234, bm-25: 19.534900665283203, bert: 0.45602771391471225\n",
      "Doc: 7187242, bm-25: 18.88170051574707, bert: 0.12109113112092017\n",
      "Doc: 2078221, bm-25: 18.849899291992188, bert: 0.609403363118569\n",
      "Doc: 7187241, bm-25: 18.660499572753906, bert: 0.048912956689794854\n",
      "Doc: 6802210, bm-25: 18.122499465942383, bert: 0.04601731585959594\n",
      "Doc: 6794083, bm-25: 17.852399826049805, bert: 0.35505015403032303\n",
      "Doc: 5365328, bm-25: 17.602399826049805, bert: 0.08343984310825667\n",
      "Doc: 6750054, bm-25: 17.184900283813477, bert: 0.1803257738550504\n",
      "Doc: 4332300, bm-25: 16.236299514770508, bert: 0.055645694956183434\n",
      "Doc: 6347088, bm-25: 16.227800369262695, bert: 0.11002308999498685\n",
      "Doc: 6347089, bm-25: 16.227798461914062, bert: 0.0945375288526217\n",
      "Doc: 6270168, bm-25: 16.077600479125977, bert: 0.06572579654554525\n",
      "Doc: 3982208, bm-25: 15.826899528503418, bert: 0.18506634856263796\n",
      "Doc: 7471199, bm-25: 15.753499984741211, bert: 0.22444936881462732\n",
      "Doc: 7313043, bm-25: 15.453800201416016, bert: 0.1706959195435047\n",
      "Doc: 8105762, bm-25: 15.304100036621094, bert: 0.10624360044797261\n",
      "Doc: 1139145, bm-25: 15.1899995803833, bert: 0.40984741101662314\n",
      "Doc: 4332307, bm-25: 15.09689998626709, bert: 0.03943728903929392\n",
      "Doc: 4146550, bm-25: 15.091300010681152, bert: 0.1575545258820057\n",
      "Doc: 1543826, bm-25: 15.061100006103516, bert: 0.07500069277981916\n",
      "Doc: 4332303, bm-25: 15.038000106811523, bert: 0.37382131877044833\n",
      "Doc: 7187239, bm-25: 15.037999153137207, bert: 0.06794135769208272\n",
      "Doc: 6376538, bm-25: 15.015999794006348, bert: 0.4375698522975047\n",
      "Doc: 7471197, bm-25: 14.979100227355957, bert: 0.1709754392504692\n",
      "Doc: 4176633, bm-25: 14.86139965057373, bert: 0.07898878306150436\n",
      "Doc: 6376537, bm-25: 14.824000358581543, bert: 0.44609589626391727\n",
      "Doc: 7798380, bm-25: 14.776700019836426, bert: 0.09867274637023607\n",
      "Doc: 1543821, bm-25: 14.740799903869629, bert: 0.2531288514534632\n",
      "Doc: 7187235, bm-25: 14.698800086975098, bert: 0.07039565158387025\n",
      "Doc: 7471204, bm-25: 14.664799690246582, bert: 0.12541516808172065\n",
      "Doc: 5365331, bm-25: 14.621100425720215, bert: 0.055444134399294846\n",
      "Doc: 1880843, bm-25: 14.567999839782715, bert: 0.17131473496556282\n",
      "Doc: 8312679, bm-25: 14.504500389099121, bert: 0.08914001906911533\n",
      "Doc: 6802211, bm-25: 14.45199966430664, bert: 0.10554885367552438\n",
      "Doc: 4567133, bm-25: 14.44320011138916, bert: 0.050225721672177315\n",
      "Doc: 675755, bm-25: 14.429900169372559, bert: 0.17495640056828657\n",
      "Doc: 1880841, bm-25: 14.42770004272461, bert: 0.028507483502229054\n",
      "Doc: 3111290, bm-25: 14.411199569702148, bert: 0.10297140727440515\n",
      "Doc: 6599701, bm-25: 14.389300346374512, bert: 0.13196203547219434\n",
      "Doc: 1139147, bm-25: 14.382800102233887, bert: 0.1757221333682537\n",
      "Doc: 786187, bm-25: 14.37440013885498, bert: 0.05495352980991204\n",
      "Doc: 4567130, bm-25: 14.373900413513184, bert: 0.0731426483641068\n",
      "Doc: 17914, bm-25: 14.365300178527832, bert: 0.08393997823198636\n",
      "Doc: 5478742, bm-25: 14.348699569702148, bert: 0.1105755294362704\n",
      "Doc: 1139144, bm-25: 14.345399856567383, bert: 0.05990543961524963\n",
      "Doc: 8802624, bm-25: 14.344900131225586, bert: 0.21503752035399276\n",
      "Doc: 1994906, bm-25: 14.340800285339355, bert: 0.07241027305523555\n",
      "Doc: 4180477, bm-25: 14.282299995422363, bert: 0.17158350472648937\n",
      "Doc: 5365329, bm-25: 14.260600090026855, bert: 0.05930345132946968\n",
      "Doc: 7665241, bm-25: 14.162599563598633, bert: 0.46894394109646476\n",
      "Doc: 4752053, bm-25: 14.150400161743164, bert: 0.2128554160396258\n",
      "Doc: 5800646, bm-25: 14.14169979095459, bert: 0.09230525791645049\n",
      "Doc: 2707984, bm-25: 14.12279987335205, bert: 0.13041300637026626\n",
      "Doc: 5989134, bm-25: 13.997599601745605, bert: 0.035618903736273445\n",
      "Doc: 6794078, bm-25: 13.990500450134277, bert: 0.14141279645264146\n",
      "Doc: 1936531, bm-25: 13.975899696350098, bert: 0.12369929129878679\n",
      "Doc: 3279353, bm-25: 13.975898742675781, bert: 0.12369929129878679\n",
      "Doc: 6062883, bm-25: 13.944100379943848, bert: 0.07054367288947105\n",
      "Doc: 5365322, bm-25: 13.942299842834473, bert: 0.05860499354700247\n",
      "Doc: 5365325, bm-25: 13.90880012512207, bert: 0.19930249080061913\n",
      "Doc: 5365323, bm-25: 13.893400192260742, bert: 0.24305484009285766\n",
      "Doc: 3819531, bm-25: 13.888199806213379, bert: 0.04173001398642858\n",
      "Doc: 4215309, bm-25: 13.827099800109863, bert: 0.06073433347046375\n",
      "Doc: 777337, bm-25: 13.822099685668945, bert: 0.1460416472206513\n",
      "Doc: 5365324, bm-25: 13.81659984588623, bert: 0.16185509289304414\n",
      "Doc: 3106955, bm-25: 13.80370044708252, bert: 0.18232964351773262\n",
      "Doc: 3111289, bm-25: 13.798999786376953, bert: 0.06795717341204484\n",
      "Doc: 4842941, bm-25: 13.770099639892578, bert: 0.46894394109646476\n",
      "Doc: 6317755, bm-25: 13.758600234985352, bert: 0.08083984069526196\n",
      "Doc: 7471195, bm-25: 13.721199989318848, bert: 0.17382591217756269\n",
      "Doc: 471947, bm-25: 13.706999778747559, bert: 0.08729395270347595\n",
      "Doc: 6802215, bm-25: 13.678600311279297, bert: 0.07081047693888347\n",
      "Doc: 5488062, bm-25: 13.616999626159668, bert: 0.04748379439115524\n",
      "Doc: 3954694, bm-25: 13.583200454711914, bert: 0.06792442003885904\n",
      "Doc: 2720609, bm-25: 13.557100296020508, bert: 0.0630168051769336\n",
      "Doc: 6802216, bm-25: 13.535799980163574, bert: 0.07749260651568572\n",
      "Doc: 6395567, bm-25: 13.530099868774414, bert: 0.3292015176266432\n",
      "Doc: 2660269, bm-25: 13.526100158691406, bert: 0.0667223110795021\n",
      "Doc: 5800643, bm-25: 13.494600296020508, bert: 0.037226855133970574\n",
      "Doc: 5488057, bm-25: 13.473799705505371, bert: 0.0922394370039304\n",
      "Doc: 6317752, bm-25: 13.457200050354004, bert: 0.23964270949363703\n",
      "Doc: 4774742, bm-25: 13.456999778747559, bert: 0.04838733126719793\n",
      "Doc: 1635367, bm-25: 13.435799598693848, bert: 0.2618634377916654\n",
      "Doc: 8292876, bm-25: 13.434900283813477, bert: 0.2455532699823379\n",
      "Doc: 3962189, bm-25: 13.434100151062012, bert: 0.11005368766685326\n",
      "Doc: 2720616, bm-25: 13.43340015411377, bert: 0.04833485806981722\n",
      "Doc: 7187240, bm-25: 13.40250015258789, bert: 0.04640106049676736\n",
      "Doc: 7836526, bm-25: 13.386899948120117, bert: 0.3230161312967539\n",
      "Doc: 2660270, bm-25: 13.370800018310547, bert: 0.0667223110795021\n",
      "Doc: 376147, bm-25: 13.357099533081055, bert: 0.28117859053115046\n",
      "Doc: 2157591, bm-25: 13.345399856567383, bert: 0.1840175197770198\n",
      "Doc: 8674220, bm-25: 13.31410026550293, bert: 0.4838300247987111\n",
      "Doc: 2720615, bm-25: 13.302399635314941, bert: 0.07003006959954897\n",
      "Doc: 5788572, bm-25: 13.298999786376953, bert: 0.7050167421499888\n",
      "Doc: 2157937, bm-25: 13.284899711608887, bert: 0.0670235858609279\n",
      "Doc: 4610776, bm-25: 13.265600204467773, bert: 0.07574159651994705\n",
      "Doc: 6563071, bm-25: 13.235799789428711, bert: 0.08473937523861726\n"
     ]
    }
   ],
   "source": [
    "query = queries[0][\"content\"]\n",
    "\n",
    "\n",
    "def bertRankQuery(query, k=20):\n",
    "    hits = searcher.search(query, k=k)\n",
    "    \n",
    "    maxBM = 0\n",
    "    maxBert = 0\n",
    "    res = pd.DataFrame(np.zeros((len(hits), 3)), index = range(len(hits)), columns=[\"docid\", \"bm-25\", \"bert\"])\n",
    "\n",
    "    for i in range(len(hits)):\n",
    "        hit = hits[i]\n",
    "        docid = int(hit.docid)\n",
    "        doc = findDoc(docid).split(\"\\t\")[1]\n",
    "\n",
    "        score = calcBertScore(query, doc)\n",
    "        print(f\"Doc: {docid}, bm-25: {hit.score}, bert: {score}\")\n",
    "        res.at[i, \"docid\"] = docid\n",
    "        res.at[i, \"bm-25\"] = hit.score\n",
    "        res.at[i, \"bert\"] = score\n",
    "\n",
    "        maxBM = max(maxBM, hit.score)\n",
    "        maxBert = max(maxBert, score)\n",
    "    res[\"final\"] = a*res[\"bm-25\"]/maxBM + (1-a)*res[\"bert\"]/maxBert\n",
    "    res = res.astype({'docid': 'int32'})\n",
    "    res = res.sort_values(\"final\", ascending = False)\n",
    "        \n",
    "    return res\n",
    "\n",
    "res = bertRankQuery(query, 100)\n",
    "\n"
   ]
  },
  {
   "cell_type": "code",
   "execution_count": 194,
   "id": "5f80ccb1",
   "metadata": {},
   "outputs": [
    {
     "name": "stdout",
     "output_type": "stream",
     "text": [
      "      docid      bm-25      bert     final\n",
      "5   2078221  18.849899  0.609403  0.873640\n",
      "96  5788572  13.299000  0.705017  0.811452\n",
      "3   7187234  19.534901  0.456028  0.780908\n",
      "1   7187236  20.337601  0.337219  0.715447\n",
      "8   6794083  17.852400  0.355050  0.669892\n",
      "..      ...        ...       ...       ...\n",
      "75  5488062  13.617000  0.047484  0.352575\n",
      "84  4774742  13.457000  0.048387  0.349469\n",
      "88  2720616  13.433400  0.048335  0.348879\n",
      "89  7187240  13.402500  0.046401  0.346784\n",
      "81  5800643  13.494600  0.037227  0.342434\n",
      "\n",
      "[100 rows x 4 columns]\n"
     ]
    }
   ],
   "source": [
    "def exportRes(query, res, filename = \"res.txt\"):\n",
    "    f = open(filename, \"w\")\n",
    "    \n",
    "    for i in range(len(res)):\n",
    "#         print(res[\"docid\"].iat[i])\n",
    "        docid = res[\"docid\"].iat[i]\n",
    "        score = res[\"final\"].iat[i]\n",
    "        f.write(f\"{query} Q0 {docid} {i + 1} {score} Bertserini \\n\")\n",
    "        \n",
    "exportRes(queries[0][\"id\"], res)\n",
    "        \n",
    "print(res)"
   ]
  },
  {
   "cell_type": "code",
   "execution_count": 166,
   "id": "0d4308ff",
   "metadata": {},
   "outputs": [
    {
     "data": {
      "text/plain": [
       "7187234.0"
      ]
     },
     "execution_count": 166,
     "metadata": {},
     "output_type": "execute_result"
    }
   ],
   "source": [
    "res.iloc[1][\"docid\"]"
   ]
  }
 ],
 "metadata": {
  "kernelspec": {
   "display_name": "Python 3 (ipykernel)",
   "language": "python",
   "name": "python3"
  },
  "language_info": {
   "codemirror_mode": {
    "name": "ipython",
    "version": 3
   },
   "file_extension": ".py",
   "mimetype": "text/x-python",
   "name": "python",
   "nbconvert_exporter": "python",
   "pygments_lexer": "ipython3",
   "version": "3.8.12"
  }
 },
 "nbformat": 4,
 "nbformat_minor": 5
}
