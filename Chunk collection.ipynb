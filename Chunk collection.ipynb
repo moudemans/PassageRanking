{
 "cells": [
  {
   "cell_type": "code",
   "execution_count": 9,
   "id": "7f2ec397",
   "metadata": {
    "scrolled": true
   },
   "outputs": [],
   "source": [
    "count = 0\n",
    "\n",
    "f = open(\"collection.tsv\",  encoding=\"utf8\")\n",
    "wf = open(f\"collection_chunks/{count}.txt\", \"w\", encoding=\"utf8\")\n",
    "\n",
    "while True:\n",
    "    l = f.readline()\n",
    "    wf.write(l)\n",
    " \n",
    "    # if line is empty\n",
    "    # end of file is reached\n",
    "    if not l:\n",
    "        break\n",
    "    if count % 10000 == 0:\n",
    "        wf.close()\n",
    "        wf = open(f\"collection_chunks/{count}.txt\", \"w\", encoding=\"utf8\")\n",
    "    count = count + 1\n",
    "wf.close()\n",
    "\n",
    "    "
   ]
  },
  {
   "cell_type": "code",
   "execution_count": 7,
   "id": "4c9de34d",
   "metadata": {},
   "outputs": [],
   "source": [
    "wf.close()"
   ]
  }
 ],
 "metadata": {
  "kernelspec": {
   "display_name": "Python 3 (ipykernel)",
   "language": "python",
   "name": "python3"
  },
  "language_info": {
   "codemirror_mode": {
    "name": "ipython",
    "version": 3
   },
   "file_extension": ".py",
   "mimetype": "text/x-python",
   "name": "python",
   "nbconvert_exporter": "python",
   "pygments_lexer": "ipython3",
   "version": "3.8.12"
  }
 },
 "nbformat": 4,
 "nbformat_minor": 5
}
