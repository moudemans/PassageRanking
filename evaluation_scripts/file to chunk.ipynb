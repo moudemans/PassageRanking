{
 "cells": [
  {
   "cell_type": "markdown",
   "id": "24476e9f",
   "metadata": {},
   "source": [
    "## chunk query results"
   ]
  },
  {
   "cell_type": "code",
   "execution_count": 2,
   "id": "f275805f",
   "metadata": {},
   "outputs": [],
   "source": [
    "chunk_size = 5000\n",
    "\n",
    "\n",
    "next_id_chunk = chunk_size\n",
    "\n",
    "file_name = str(next_id_chunk -chunk_size)\n",
    "f = open(\"data/run.queries.dev.txt\",  encoding=\"utf8\")\n",
    "wf = open(f\"runs_chunks/{file_name}.txt\", \"w\", encoding=\"utf8\")\n",
    "\n",
    "\n",
    "file_string = \"\"\n",
    "\n",
    "while True:\n",
    "    l = f.readline()\n",
    "    \n",
    "    # if line is empty\n",
    "    # end of file is reached\n",
    "    if not l:\n",
    "        break\n",
    "        \n",
    "    curr_id = int(l.split()[0])\n",
    "    if curr_id >= next_id_chunk:\n",
    "        wf.write(file_string)\n",
    "        wf.close()\n",
    "        \n",
    "        wf = open(f\"runs_chunks/{next_id_chunk}.txt\", \"w\", encoding=\"utf8\")\n",
    "        next_id_chunk += chunk_size\n",
    "        file_string = \"\"\n",
    "    \n",
    "    \n",
    "    file_string += l\n",
    "    \n",
    "wf.write(file_string)\n",
    "wf.close()"
   ]
  },
  {
   "cell_type": "markdown",
   "id": "c20ce157",
   "metadata": {},
   "source": [
    "## Chunk data collection"
   ]
  },
  {
   "cell_type": "code",
   "execution_count": 5,
   "id": "949f4650",
   "metadata": {},
   "outputs": [],
   "source": [
    "\n",
    "count = 0\n",
    "\n",
    "f = open(\"data/collection.tsv\",  encoding=\"utf8\")\n",
    "wf = open(f\"data_chunks/{count}.txt\", \"w\", encoding=\"utf8\")\n",
    "\n",
    "\n",
    "while True:\n",
    "    l = f.readline()\n",
    "    \n",
    "    \n",
    "    if not l:\n",
    "        break\n",
    "    \n",
    "    wf.write(l)\n",
    " \n",
    "    # if line is empty\n",
    "    # end of file is reached\n",
    "\n",
    "    if count % 10000 == 0:\n",
    "        wf.close()\n",
    "        wf = open(f\"data_chunks/{count}.txt\", \"w\", encoding=\"utf8\")\n",
    "    count = count + 1\n",
    "wf.close()"
   ]
  },
  {
   "cell_type": "code",
   "execution_count": null,
   "id": "885b0925",
   "metadata": {},
   "outputs": [],
   "source": []
  }
 ],
 "metadata": {
  "kernelspec": {
   "display_name": "Python 3 (ipykernel)",
   "language": "python",
   "name": "python3"
  },
  "language_info": {
   "codemirror_mode": {
    "name": "ipython",
    "version": 3
   },
   "file_extension": ".py",
   "mimetype": "text/x-python",
   "name": "python",
   "nbconvert_exporter": "python",
   "pygments_lexer": "ipython3",
   "version": "3.8.12"
  }
 },
 "nbformat": 4,
 "nbformat_minor": 5
}
