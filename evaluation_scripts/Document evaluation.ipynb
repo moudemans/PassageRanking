{
 "cells": [
  {
   "cell_type": "code",
   "execution_count": null,
   "id": "328f9d3a",
   "metadata": {},
   "outputs": [],
   "source": [
    "\n",
    "query_id = 10000000\n"
   ]
  },
  {
   "cell_type": "code",
   "execution_count": null,
   "id": "67d4f865",
   "metadata": {},
   "outputs": [],
   "source": [
    "import os.path\n",
    "from os import path\n",
    "import sys\n",
    "\n",
    "\n",
    "\n",
    "start_file = query_id - (query_id % 5000)\n",
    "\n",
    "counter = 0\n",
    "\n",
    "query_documents_ids = {}\n",
    "\n",
    "for i in range(len(filtered_queries)):\n",
    "    query_documents_ids[int(filtered_queries[i][0])] = []\n",
    "    query_documents_text[int(filtered_queries[i][0])] = []\n",
    "\n",
    "f = open(f\"runs_chunks/{start_file}.txt\", \"r\", encoding=\"utf8\")\n",
    "print(start_file)\n",
    "for i in range(len(list_of_query_ids)):\n",
    "    \n",
    "        \n",
    "#         If the next query id is larger than the i, the next file should be loaded\n",
    "    if list_of_query_ids[i] >= (start_file + 5000):\n",
    "        start_file = list_of_query_ids[i] - (list_of_query_ids[i] % 5000)\n",
    "        f = open(f\"runs_chunks/{start_file}.txt\", \"r\", encoding=\"utf8\")\n",
    "        print(\"Opened new file: \" + \"runs_chunks/\"+str(start_file)+\".txt\")\n",
    "\n",
    "    end_of_id_reached = False\n",
    "\n",
    "    while not end_of_id_reached:\n",
    "        l = f.readline()\n",
    "    \n",
    "        if not l:\n",
    "            break\n",
    "\n",
    "        holder = l.split()  # Line containing query-id Q0 document-id rank score STANDARD\n",
    "\n",
    "        query_id_int = int(holder[0])\n",
    "        if l == \"\" or len(holder) == 0:\n",
    "            end_if_id_reached = True\n",
    "\n",
    "        if query_id_int < int(list_of_query_ids[i]):\n",
    "            continue\n",
    "        if query_id_int == int(list_of_query_ids[i]):\n",
    "            print(f\"Adding documents to query: {l}\")\n",
    "            print(\"doc_id: \", holder[2])\n",
    "            print(\"score: \", holder[4])\n",
    "            query_documents_ids[query_id_int].append([holder[2], holder[4]])\n",
    "        if query_id_int > int(list_of_query_ids[i]):\n",
    "            if i+1 < len(list_of_query_ids) and query_id_int == int(list_of_query_ids[i + 1]):\n",
    "                query_documents_ids[query_id_int].append([holder[2], holder[4]])\n",
    "            end_of_id_reached = True\n",
    "\n",
    "print('Finished collecting the document IDs')\n",
    "    \n",
    "\n",
    "\n"
   ]
  }
 ],
 "metadata": {
  "kernelspec": {
   "display_name": "Python 3 (ipykernel)",
   "language": "python",
   "name": "python3"
  },
  "language_info": {
   "codemirror_mode": {
    "name": "ipython",
    "version": 3
   },
   "file_extension": ".py",
   "mimetype": "text/x-python",
   "name": "python",
   "nbconvert_exporter": "python",
   "pygments_lexer": "ipython3",
   "version": "3.8.12"
  }
 },
 "nbformat": 4,
 "nbformat_minor": 5
}
